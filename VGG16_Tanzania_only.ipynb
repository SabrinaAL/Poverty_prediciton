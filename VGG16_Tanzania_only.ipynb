{
 "cells": [
  {
   "cell_type": "code",
   "execution_count": 48,
   "metadata": {},
   "outputs": [
    {
     "name": "stdout",
     "output_type": "stream",
     "text": [
      "_________________________________________________________________\n",
      "Layer (type)                 Output Shape              Param #   \n",
      "=================================================================\n",
      "input_4 (InputLayer)         (None, 512, 512, 3)       0         \n",
      "_________________________________________________________________\n",
      "block1_conv1 (Conv2D)        (None, 512, 512, 64)      1792      \n",
      "_________________________________________________________________\n",
      "block1_conv2 (Conv2D)        (None, 512, 512, 64)      36928     \n",
      "_________________________________________________________________\n",
      "block1_pool (MaxPooling2D)   (None, 256, 256, 64)      0         \n",
      "_________________________________________________________________\n",
      "block2_conv1 (Conv2D)        (None, 256, 256, 128)     73856     \n",
      "_________________________________________________________________\n",
      "block2_conv2 (Conv2D)        (None, 256, 256, 128)     147584    \n",
      "_________________________________________________________________\n",
      "block2_pool (MaxPooling2D)   (None, 128, 128, 128)     0         \n",
      "_________________________________________________________________\n",
      "block3_conv1 (Conv2D)        (None, 128, 128, 256)     295168    \n",
      "_________________________________________________________________\n",
      "block3_conv2 (Conv2D)        (None, 128, 128, 256)     590080    \n",
      "_________________________________________________________________\n",
      "block3_conv3 (Conv2D)        (None, 128, 128, 256)     590080    \n",
      "_________________________________________________________________\n",
      "block3_pool (MaxPooling2D)   (None, 64, 64, 256)       0         \n",
      "_________________________________________________________________\n",
      "block4_conv1 (Conv2D)        (None, 64, 64, 512)       1180160   \n",
      "_________________________________________________________________\n",
      "block4_conv2 (Conv2D)        (None, 64, 64, 512)       2359808   \n",
      "_________________________________________________________________\n",
      "block4_conv3 (Conv2D)        (None, 64, 64, 512)       2359808   \n",
      "_________________________________________________________________\n",
      "block4_pool (MaxPooling2D)   (None, 32, 32, 512)       0         \n",
      "_________________________________________________________________\n",
      "block5_conv1 (Conv2D)        (None, 32, 32, 512)       2359808   \n",
      "_________________________________________________________________\n",
      "block5_conv2 (Conv2D)        (None, 32, 32, 512)       2359808   \n",
      "_________________________________________________________________\n",
      "block5_conv3 (Conv2D)        (None, 32, 32, 512)       2359808   \n",
      "_________________________________________________________________\n",
      "block5_pool (MaxPooling2D)   (None, 16, 16, 512)       0         \n",
      "=================================================================\n",
      "Total params: 14,714,688\n",
      "Trainable params: 14,714,688\n",
      "Non-trainable params: 0\n",
      "_________________________________________________________________\n"
     ]
    }
   ],
   "source": [
    "from keras.applications import VGG16\n",
    "\n",
    "conv_base = VGG16(weights='imagenet',\n",
    "             include_top=False,\n",
    "                  input_shape=(512, 512, 3))\n",
    "\n",
    "conv_base.summary()"
   ]
  },
  {
   "cell_type": "code",
   "execution_count": 37,
   "metadata": {},
   "outputs": [
    {
     "name": "stdout",
     "output_type": "stream",
     "text": [
      "Found 448 images belonging to 2 classes.\n",
      "Found 160 images belonging to 2 classes.\n"
     ]
    }
   ],
   "source": [
    "import os\n",
    "import numpy as np\n",
    "from keras.preprocessing.image import ImageDataGenerator\n",
    "\n",
    "base_dir = '/Users/sabrinaaliyeva/Desktop/Insight/data/CNN_data/Tanzania/'\n",
    "\n",
    "train_dir = os.path.join(base_dir, 'train')\n",
    "test_dir = os.path.join(base_dir, 'test')\n",
    "\n",
    "datagen = ImageDataGenerator(rescale=1./255)\n",
    "batch_size = 20\n",
    "\n",
    "def extract_features(directory, sample_count):\n",
    "    features = np.zeros(shape=(sample_count, 16, 16, 512))\n",
    "    labels = np.zeros(shape=(sample_count))\n",
    "    generator = datagen.flow_from_directory(\n",
    "        directory,\n",
    "        target_size=(512, 512),\n",
    "        batch_size=batch_size,\n",
    "        class_mode='binary')\n",
    "    i = 0\n",
    "    for inputs_batch, labels_batch in generator:\n",
    "        features_batch = conv_base.predict(inputs_batch)\n",
    "        features[i * batch_size : (i + 1) * batch_size] = features_batch\n",
    "        labels[i * batch_size : (i + 1) * batch_size] = labels_batch\n",
    "        i += 1\n",
    "        if i * batch_size >= sample_count:\n",
    "            # Note that since generators yield data indefinitely in a loop,\n",
    "            # we must `break` after every image has been seen once.\n",
    "            break\n",
    "    return features, labels\n",
    "\n",
    "train_features, train_labels = extract_features(train_dir, 448)\n",
    "validation_features, validation_labels = extract_features(test_dir, 160)\n",
    "#validation_features, validation_labels = train_features, train_labels\n",
    "#test_features, test_labels = extract_features(test_dir, 63)\n"
   ]
  },
  {
   "cell_type": "code",
   "execution_count": 38,
   "metadata": {},
   "outputs": [
    {
     "name": "stdout",
     "output_type": "stream",
     "text": [
      "Train on 448 samples, validate on 160 samples\n",
      "Epoch 1/50\n",
      "448/448 [==============================] - 8s - loss: 0.6673 - acc: 0.5915 - val_loss: 0.6710 - val_acc: 0.5375\n",
      "Epoch 2/50\n",
      "448/448 [==============================] - 6s - loss: 0.6487 - acc: 0.6272 - val_loss: 0.6646 - val_acc: 0.5375\n",
      "Epoch 3/50\n",
      "448/448 [==============================] - 6s - loss: 0.6260 - acc: 0.6674 - val_loss: 0.6452 - val_acc: 0.6562\n",
      "Epoch 4/50\n",
      "448/448 [==============================] - 7s - loss: 0.6015 - acc: 0.6920 - val_loss: 0.6564 - val_acc: 0.5625\n",
      "Epoch 5/50\n",
      "448/448 [==============================] - 7s - loss: 0.5830 - acc: 0.7143 - val_loss: 0.6111 - val_acc: 0.7188\n",
      "Epoch 6/50\n",
      "448/448 [==============================] - 7s - loss: 0.5615 - acc: 0.7388 - val_loss: 0.6210 - val_acc: 0.6625\n",
      "Epoch 7/50\n",
      "448/448 [==============================] - 7s - loss: 0.5487 - acc: 0.7478 - val_loss: 0.5900 - val_acc: 0.7125\n",
      "Epoch 8/50\n",
      "448/448 [==============================] - 7s - loss: 0.5092 - acc: 0.7768 - val_loss: 0.6195 - val_acc: 0.6812\n",
      "Epoch 9/50\n",
      "448/448 [==============================] - 7s - loss: 0.4932 - acc: 0.7924 - val_loss: 0.5746 - val_acc: 0.7250\n",
      "Epoch 10/50\n",
      "448/448 [==============================] - 7s - loss: 0.4874 - acc: 0.8080 - val_loss: 0.5772 - val_acc: 0.7062\n",
      "Epoch 11/50\n",
      "448/448 [==============================] - 7s - loss: 0.4704 - acc: 0.7969 - val_loss: 0.5640 - val_acc: 0.7313\n",
      "Epoch 12/50\n",
      "448/448 [==============================] - 7s - loss: 0.4373 - acc: 0.8214 - val_loss: 0.5754 - val_acc: 0.7125\n",
      "Epoch 13/50\n",
      "448/448 [==============================] - 7s - loss: 0.4564 - acc: 0.8147 - val_loss: 0.5860 - val_acc: 0.7062\n",
      "Epoch 14/50\n",
      "448/448 [==============================] - 7s - loss: 0.4313 - acc: 0.8125 - val_loss: 0.5905 - val_acc: 0.7062\n",
      "Epoch 15/50\n",
      "448/448 [==============================] - 7s - loss: 0.4336 - acc: 0.8170 - val_loss: 0.5609 - val_acc: 0.7375\n",
      "Epoch 16/50\n",
      "448/448 [==============================] - 7s - loss: 0.4100 - acc: 0.8326 - val_loss: 0.6532 - val_acc: 0.7000\n",
      "Epoch 17/50\n",
      "448/448 [==============================] - 7s - loss: 0.4290 - acc: 0.8281 - val_loss: 0.5529 - val_acc: 0.7437\n",
      "Epoch 18/50\n",
      "448/448 [==============================] - 7s - loss: 0.4094 - acc: 0.8192 - val_loss: 0.5528 - val_acc: 0.7500\n",
      "Epoch 19/50\n",
      "448/448 [==============================] - 7s - loss: 0.4064 - acc: 0.8281 - val_loss: 0.5584 - val_acc: 0.7438\n",
      "Epoch 20/50\n",
      "448/448 [==============================] - 7s - loss: 0.3975 - acc: 0.8304 - val_loss: 0.6131 - val_acc: 0.7125\n",
      "Epoch 21/50\n",
      "448/448 [==============================] - 7s - loss: 0.3911 - acc: 0.8281 - val_loss: 0.5833 - val_acc: 0.7438\n",
      "Epoch 22/50\n",
      "448/448 [==============================] - 7s - loss: 0.4024 - acc: 0.8147 - val_loss: 0.6271 - val_acc: 0.7125\n",
      "Epoch 23/50\n",
      "448/448 [==============================] - 7s - loss: 0.3854 - acc: 0.8415 - val_loss: 0.5666 - val_acc: 0.7438\n",
      "Epoch 24/50\n",
      "448/448 [==============================] - 7s - loss: 0.3831 - acc: 0.8437 - val_loss: 0.5617 - val_acc: 0.7500\n",
      "Epoch 25/50\n",
      "448/448 [==============================] - 7s - loss: 0.3861 - acc: 0.8415 - val_loss: 0.6140 - val_acc: 0.7313\n",
      "Epoch 26/50\n",
      "448/448 [==============================] - 7s - loss: 0.3776 - acc: 0.8393 - val_loss: 0.5683 - val_acc: 0.6812\n",
      "Epoch 27/50\n",
      "448/448 [==============================] - 6s - loss: 0.3817 - acc: 0.8371 - val_loss: 0.5957 - val_acc: 0.7375\n",
      "Epoch 28/50\n",
      "448/448 [==============================] - 6s - loss: 0.3801 - acc: 0.8348 - val_loss: 0.5825 - val_acc: 0.7438\n",
      "Epoch 29/50\n",
      "448/448 [==============================] - 6s - loss: 0.3737 - acc: 0.8371 - val_loss: 0.5517 - val_acc: 0.7500\n",
      "Epoch 30/50\n",
      "448/448 [==============================] - 6s - loss: 0.3590 - acc: 0.8482 - val_loss: 0.5777 - val_acc: 0.7438\n",
      "Epoch 31/50\n",
      "448/448 [==============================] - 6s - loss: 0.3577 - acc: 0.8527 - val_loss: 0.5514 - val_acc: 0.7312\n",
      "Epoch 32/50\n",
      "448/448 [==============================] - 7s - loss: 0.3598 - acc: 0.8616 - val_loss: 0.5653 - val_acc: 0.7563\n",
      "Epoch 33/50\n",
      "448/448 [==============================] - 7s - loss: 0.3638 - acc: 0.8527 - val_loss: 0.5800 - val_acc: 0.7438\n",
      "Epoch 34/50\n",
      "448/448 [==============================] - 7s - loss: 0.3449 - acc: 0.8527 - val_loss: 0.5590 - val_acc: 0.7563\n",
      "Epoch 35/50\n",
      "448/448 [==============================] - 7s - loss: 0.3446 - acc: 0.8683 - val_loss: 0.5527 - val_acc: 0.7500\n",
      "Epoch 36/50\n",
      "448/448 [==============================] - 6s - loss: 0.3399 - acc: 0.8594 - val_loss: 0.5531 - val_acc: 0.6938\n",
      "Epoch 37/50\n",
      "448/448 [==============================] - 6s - loss: 0.3439 - acc: 0.8549 - val_loss: 0.5862 - val_acc: 0.7438\n",
      "Epoch 38/50\n",
      "448/448 [==============================] - 6s - loss: 0.3421 - acc: 0.8661 - val_loss: 0.6357 - val_acc: 0.7375\n",
      "Epoch 39/50\n",
      "448/448 [==============================] - 6s - loss: 0.3464 - acc: 0.8549 - val_loss: 0.6361 - val_acc: 0.7375\n",
      "Epoch 40/50\n",
      "448/448 [==============================] - 6s - loss: 0.3246 - acc: 0.8638 - val_loss: 0.5680 - val_acc: 0.7563\n",
      "Epoch 41/50\n",
      "448/448 [==============================] - 6s - loss: 0.3159 - acc: 0.8705 - val_loss: 0.6482 - val_acc: 0.7375\n",
      "Epoch 42/50\n",
      "448/448 [==============================] - 7s - loss: 0.3356 - acc: 0.8594 - val_loss: 0.5502 - val_acc: 0.7688\n",
      "Epoch 43/50\n",
      "448/448 [==============================] - 8s - loss: 0.3380 - acc: 0.8527 - val_loss: 0.5626 - val_acc: 0.7625\n",
      "Epoch 44/50\n",
      "448/448 [==============================] - 7s - loss: 0.3140 - acc: 0.8795 - val_loss: 0.5558 - val_acc: 0.7625\n",
      "Epoch 45/50\n",
      "448/448 [==============================] - 7s - loss: 0.3045 - acc: 0.8906 - val_loss: 0.6941 - val_acc: 0.7188\n",
      "Epoch 46/50\n",
      "448/448 [==============================] - 7s - loss: 0.3200 - acc: 0.8728 - val_loss: 0.5490 - val_acc: 0.7688\n",
      "Epoch 47/50\n",
      "448/448 [==============================] - 7s - loss: 0.2995 - acc: 0.8705 - val_loss: 0.5534 - val_acc: 0.7062\n",
      "Epoch 48/50\n",
      "448/448 [==============================] - 7s - loss: 0.3154 - acc: 0.8750 - val_loss: 0.5587 - val_acc: 0.7625\n",
      "Epoch 49/50\n",
      "448/448 [==============================] - 7s - loss: 0.3191 - acc: 0.8638 - val_loss: 0.5741 - val_acc: 0.7563\n",
      "Epoch 50/50\n",
      "448/448 [==============================] - 7s - loss: 0.3087 - acc: 0.8705 - val_loss: 0.5593 - val_acc: 0.7563\n"
     ]
    }
   ],
   "source": [
    "from keras import models\n",
    "from keras import layers\n",
    "from keras import optimizers\n",
    "\n",
    "model = models.Sequential()\n",
    "model.add(layers.Dense(256, activation='relu', input_shape=(16, 16, 512)))\n",
    "model.add(layers.Conv2D(128, (3, 3), activation='relu', padding='same'))\n",
    "model.add(layers.Flatten())\n",
    "model.add(layers.Dropout(0.5))\n",
    "model.add(layers.Dense(1, activation='sigmoid'))\n",
    "\n",
    "model.compile(optimizer=optimizers.RMSprop(lr=2e-5),\n",
    "              loss='binary_crossentropy',\n",
    "              metrics=['acc'])\n",
    "\n",
    "history = model.fit(train_features, train_labels,\n",
    "                    epochs=50,\n",
    "                    batch_size=20,\n",
    "                    validation_data=(validation_features, validation_labels))"
   ]
  },
  {
   "cell_type": "code",
   "execution_count": 46,
   "metadata": {},
   "outputs": [
    {
     "data": {
      "image/png": "[encoded data removed]",
      "text/plain": [
       "<matplotlib.figure.Figure at 0x11a9b3310>"
      ]
     },
     "metadata": {},
     "output_type": "display_data"
    },
    {
     "data": {
      "image/png": "[encoded data removed]",
      "text/plain": [
       "<matplotlib.figure.Figure at 0x11b62cc90>"
      ]
     },
     "metadata": {},
     "output_type": "display_data"
    }
   ],
   "source": [
    "import matplotlib.pyplot as plt\n",
    "\n",
    "import matplotlib\n",
    "matplotlib.get_backend()\n",
    "\n",
    "acc = history.history['acc']\n",
    "val_acc = history.history['val_acc']\n",
    "loss = history.history['loss']\n",
    "val_loss = history.history['val_loss']\n",
    "\n",
    "epochs = range(len(acc))\n",
    "\n",
    "def smooth_curve(points, factor=0.8):\n",
    "  smoothed_points = []\n",
    "  for point in points:\n",
    "    if smoothed_points:\n",
    "      previous = smoothed_points[-1]\n",
    "      smoothed_points.append(previous * factor + point * (1 - factor))\n",
    "    else:\n",
    "      smoothed_points.append(point)\n",
    "  return smoothed_points\n",
    "\n",
    "plt.plot(epochs,\n",
    "         smooth_curve(acc), 'bo', label='Training acc')\n",
    "plt.plot(epochs,\n",
    "         smooth_curve(val_acc), 'b', label='Validation acc')\n",
    "plt.title('Training and validation accuracy')\n",
    "plt.legend()\n",
    "\n",
    "plt.figure()\n",
    "\n",
    "plt.plot(epochs,\n",
    "         smooth_curve(loss), 'bo', label='Training loss')\n",
    "plt.plot(epochs,\n",
    "         smooth_curve(val_loss), 'b', label='Validation loss')\n",
    "plt.title('Training and validation loss')\n",
    "plt.legend()\n",
    "\n",
    "plt.show()"
   ]
  },
  {
   "cell_type": "code",
   "execution_count": 40,
   "metadata": {},
   "outputs": [],
   "source": [
    "from keras import models\n",
    "from keras import layers\n",
    "\n",
    "full_model=models.Sequential()\n",
    "full_model.add(conv_base)\n",
    "full_model.add(model)\n",
    "\n",
    "\n",
    "full_model.compile(optimizer=optimizers.RMSprop(lr=2e-5),\n",
    "              loss='binary_crossentropy',\n",
    "              metrics=['acc'])"
   ]
  },
  {
   "cell_type": "code",
   "execution_count": 41,
   "metadata": {},
   "outputs": [
    {
     "name": "stdout",
     "output_type": "stream",
     "text": [
      "_________________________________________________________________\n",
      "Layer (type)                 Output Shape              Param #   \n",
      "=================================================================\n",
      "vgg16 (Model)                (None, 16, 16, 512)       14714688  \n",
      "_________________________________________________________________\n",
      "sequential_7 (Sequential)    (None, 1)                 459137    \n",
      "=================================================================\n",
      "Total params: 15,173,825\n",
      "Trainable params: 15,173,825\n",
      "Non-trainable params: 0\n",
      "_________________________________________________________________\n"
     ]
    }
   ],
   "source": [
    "full_model.summary()\n"
   ]
  },
  {
   "cell_type": "code",
   "execution_count": 42,
   "metadata": {
    "collapsed": true
   },
   "outputs": [],
   "source": [
    "# Saving the model:\n",
    "save_dir='/Users/sabrinaaliyeva/Desktop/Insight/data/CNN_data/Tanzania/'\n",
    "full_model.save(save_dir+'two_class_poverty.h5')"
   ]
  },
  {
   "cell_type": "code",
   "execution_count": 45,
   "metadata": {},
   "outputs": [
    {
     "name": "stdout",
     "output_type": "stream",
     "text": [
      "Test accuracy: 0.7530%\n"
     ]
    }
   ],
   "source": [
    "test_generator = test_datagen.flow_from_directory(\n",
    "        test_dir,\n",
    "        target_size=(512, 512),\n",
    "        batch_size=20,\n",
    "        class_mode='binary')\n",
    "\n",
    "test_loss, test_acc = full_model.evaluate_generator(test_generator, steps=50)\n",
    "print('Test accuracy: %.4f%%' % test_acc)\n",
    "\n"
   ]
  },
  {
   "cell_type": "code",
   "execution_count": 79,
   "metadata": {},
   "outputs": [
    {
     "name": "stderr",
     "output_type": "stream",
     "text": [
      "100%|██████████| 160/160 [00:01<00:00, 85.99it/s]\n"
     ]
    }
   ],
   "source": [
    "from sklearn.datasets import load_files    \n",
    "from keras.utils import np_utils\n",
    "\n",
    "from keras.preprocessing import image                  \n",
    "from tqdm import tqdm\n",
    "\n",
    "def load_dataset(path):\n",
    "    data = load_files(path)\n",
    "    files = np.array(data['filenames'])\n",
    "    targets = np_utils.to_categorical(np.array(data['target']), 2)\n",
    "    return files, targets\n",
    "\n",
    "valid_files, valid_targets = load_dataset('/Users/sabrinaaliyeva/Desktop/Insight/data/CNN_data/Tanzania/test')\n",
    "\n",
    "def path_to_tensor(img_path):\n",
    "    # loads RGB image as PIL.Image.Image type\n",
    "    img = image.load_img(img_path, target_size=(512, 512))\n",
    "    # convert PIL.Image.Image type to 3D tensor with shape (224, 224, 3)\n",
    "    x = image.img_to_array(img)\n",
    "    # convert 3D tensor to 4D tensor with shape (1, 224, 224, 3) and return 4D tensor\n",
    "    return np.expand_dims(x, axis=0)\n",
    "\n",
    "def paths_to_tensor(img_paths):\n",
    "    list_of_tensors = [path_to_tensor(img_path) for img_path in tqdm(img_paths)]\n",
    "    return np.vstack(list_of_tensors)\n",
    "\n",
    "test_tensors = paths_to_tensor(valid_files).astype('float32')/255\n",
    "\n",
    "\n"
   ]
  },
  {
   "cell_type": "code",
   "execution_count": null,
   "metadata": {},
   "outputs": [],
   "source": [
    "\n",
    "predictions = [np.argmax(full_model.predict(np.expand_dims(tensor, axis=0))) for tensor in test_tensors]\n",
    "\n"
   ]
  },
  {
   "cell_type": "code",
   "execution_count": 49,
   "metadata": {
    "collapsed": true
   },
   "outputs": [],
   "source": [
    "def plot_confusion_matrix(cm, classes,\n",
    "                          normalize=False,\n",
    "                          title='Confusion matrix',\n",
    "                          cmap=plt.cm.Blues):\n",
    "    \"\"\"\n",
    "    This function prints and plots the confusion matrix.\n",
    "    Normalization can be applied by setting `normalize=True`.\n",
    "    \"\"\"\n",
    "    if normalize:\n",
    "        cm = cm.astype('float') / cm.sum(axis=1)[:, np.newaxis]\n",
    "        print(\"Normalized confusion matrix\")\n",
    "    else:\n",
    "        print('Confusion matrix, without normalization')\n",
    "\n",
    "    print(cm)\n",
    "\n",
    "    plt.imshow(cm, interpolation='nearest', cmap=cmap)\n",
    "    plt.title(title)\n",
    "    plt.colorbar()\n",
    "    tick_marks = np.arange(len(classes))\n",
    "    plt.xticks(tick_marks, classes, rotation=45)\n",
    "    plt.yticks(tick_marks, classes)\n",
    "\n",
    "    fmt = '.2f' if normalize else 'd'\n",
    "    thresh = cm.max() / 2.\n",
    "    for i, j in itertools.product(range(cm.shape[0]), range(cm.shape[1])):\n",
    "        plt.text(j, i, format(cm[i, j], fmt),\n",
    "                 horizontalalignment=\"center\",\n",
    "                 color=\"white\" if cm[i, j] > thresh else \"black\")\n",
    "\n",
    "    plt.tight_layout()\n",
    "    plt.ylabel('True label')\n",
    "    plt.xlabel('Predicted label')"
   ]
  },
  {
   "cell_type": "code",
   "execution_count": 29,
   "metadata": {},
   "outputs": [
    {
     "data": {
      "text/plain": [
       "'MacOSX'"
      ]
     },
     "execution_count": 29,
     "metadata": {},
     "output_type": "execute_result"
    }
   ],
   "source": [
    "# Compute confusion matrix\n",
    "cnf_matrix = confusion_matrix(valid_targets, predictions)\n",
    "np.set_printoptions(precision=2)\n",
    "\n",
    "# Plot non-normalized confusion matrix\n",
    "plt.figure()\n",
    "plot_confusion_matrix(cnf_matrix, classes=class_names,\n",
    "                      title='Confusion matrix, without normalization')\n",
    "\n",
    "# Plot normalized confusion matrix\n",
    "plt.figure()\n",
    "plot_confusion_matrix(cnf_matrix, classes=class_names, normalize=True,\n",
    "                      title='Normalized confusion matrix')\n",
    "\n",
    "plt.show()"
   ]
  },
  {
   "cell_type": "code",
   "execution_count": null,
   "metadata": {
    "collapsed": true
   },
   "outputs": [],
   "source": []
  },
  {
   "cell_type": "code",
   "execution_count": null,
   "metadata": {
    "collapsed": true
   },
   "outputs": [],
   "source": []
  },
  {
   "cell_type": "code",
   "execution_count": null,
   "metadata": {
    "collapsed": true
   },
   "outputs": [],
   "source": []
  }
 ],
 "metadata": {
  "kernelspec": {
   "display_name": "Python 2",
   "language": "python",
   "name": "python2"
  },
  "language_info": {
   "codemirror_mode": {
    "name": "ipython",
    "version": 2
   },
   "file_extension": ".py",
   "mimetype": "text/x-python",
   "name": "python",
   "nbconvert_exporter": "python",
   "pygments_lexer": "ipython2",
   "version": "2.7.13"
  }
 },
 "nbformat": 4,
 "nbformat_minor": 2
}
